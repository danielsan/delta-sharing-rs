{
 "cells": [
  {
   "cell_type": "markdown",
   "id": "ab270818",
   "metadata": {},
   "source": [
    "# Utility Functions"
   ]
  },
  {
   "cell_type": "code",
   "execution_count": 1,
   "id": "f89f81e0",
   "metadata": {},
   "outputs": [],
   "source": [
    "import os\n",
    "import glob\n",
    "import itertools\n",
    "from pathlib import Path\n",
    "import boto3\n",
    "\n",
    "CLIENT = boto3.client('s3')\n",
    "\n",
    "def upload(local_path, bucket, gcs_path):\n",
    "    assert os.path.isdir(local_path)\n",
    "    for local_file in itertools.chain(glob.glob(local_path + '/**'), glob.glob(local_path + '/.**')):\n",
    "        if not os.path.isfile(local_file):\n",
    "            upload(local_file, bucket, gcs_path + \"/\" + os.path.basename(local_file))\n",
    "        else:\n",
    "            remote_path = os.path.join(gcs_path, os.path.basename(local_file))\n",
    "            CLIENT.upload_file(local_file, bucket, remote_path)"
   ]
  },
  {
   "cell_type": "markdown",
   "id": "4ff353b6",
   "metadata": {},
   "source": [
    "# Upload Tables to S3"
   ]
  },
  {
   "cell_type": "code",
   "execution_count": 2,
   "id": "73cc29b2",
   "metadata": {},
   "outputs": [],
   "source": [
    "upload('../data/covid-table/', 'delta-sharing-test', 'covid')\n",
    "upload('../data/examination-table/', 'delta-sharing-test', 'examination')"
   ]
  }
 ],
 "metadata": {
  "kernelspec": {
   "display_name": "Python 3 (ipykernel)",
   "language": "python",
   "name": "python3"
  },
  "language_info": {
   "codemirror_mode": {
    "name": "ipython",
    "version": 3
   },
   "file_extension": ".py",
   "mimetype": "text/x-python",
   "name": "python",
   "nbconvert_exporter": "python",
   "pygments_lexer": "ipython3",
   "version": "3.8.13"
  }
 },
 "nbformat": 4,
 "nbformat_minor": 5
}
