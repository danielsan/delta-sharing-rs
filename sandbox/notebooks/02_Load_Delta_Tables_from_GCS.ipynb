{
 "cells": [
  {
   "cell_type": "markdown",
   "id": "c1c037f9",
   "metadata": {},
   "source": [
    "# Create Sharing Clinet"
   ]
  },
  {
   "cell_type": "code",
   "execution_count": 1,
   "id": "5e10bd6f",
   "metadata": {},
   "outputs": [],
   "source": [
    "import delta_sharing\n",
    "\n",
    "profile_file = \"../creds/profile.json\"\n",
    "client = delta_sharing.SharingClient(profile_file)"
   ]
  },
  {
   "cell_type": "markdown",
   "id": "6c645b69",
   "metadata": {},
   "source": [
    "# List Tables"
   ]
  },
  {
   "cell_type": "code",
   "execution_count": 2,
   "id": "fa3a7ae0",
   "metadata": {},
   "outputs": [
    {
     "data": {
      "text/plain": [
       "[Table(name='table1', share='share1', schema='schema1'),\n",
       " Table(name='table2', share='share1', schema='schema1')]"
      ]
     },
     "execution_count": 2,
     "metadata": {},
     "output_type": "execute_result"
    }
   ],
   "source": [
    "client.list_all_tables()"
   ]
  },
  {
   "cell_type": "markdown",
   "id": "44089c61",
   "metadata": {},
   "source": [
    "# Load Tables"
   ]
  },
  {
   "cell_type": "code",
   "execution_count": 3,
   "id": "8509002a",
   "metadata": {},
   "outputs": [
    {
     "data": {
      "text/html": [
       "<div>\n",
       "<style scoped>\n",
       "    .dataframe tbody tr th:only-of-type {\n",
       "        vertical-align: middle;\n",
       "    }\n",
       "\n",
       "    .dataframe tbody tr th {\n",
       "        vertical-align: top;\n",
       "    }\n",
       "\n",
       "    .dataframe thead th {\n",
       "        text-align: right;\n",
       "    }\n",
       "</style>\n",
       "<table border=\"1\" class=\"dataframe\">\n",
       "  <thead>\n",
       "    <tr style=\"text-align: right;\">\n",
       "      <th></th>\n",
       "      <th>serial_number</th>\n",
       "      <th>country</th>\n",
       "      <th>total_cases</th>\n",
       "      <th>total_deaths</th>\n",
       "      <th>total_recovered</th>\n",
       "      <th>active_cases</th>\n",
       "      <th>total_test</th>\n",
       "      <th>population</th>\n",
       "    </tr>\n",
       "  </thead>\n",
       "  <tbody>\n",
       "    <tr>\n",
       "      <th>0</th>\n",
       "      <td>1</td>\n",
       "      <td>USA</td>\n",
       "      <td>104,196,861</td>\n",
       "      <td>1,132,935</td>\n",
       "      <td>101,322,779</td>\n",
       "      <td>1,741,147</td>\n",
       "      <td>1,159,832,679</td>\n",
       "      <td>334,805,269</td>\n",
       "    </tr>\n",
       "    <tr>\n",
       "      <th>1</th>\n",
       "      <td>2</td>\n",
       "      <td>India</td>\n",
       "      <td>44,682,784</td>\n",
       "      <td>530,740</td>\n",
       "      <td>44,150,289</td>\n",
       "      <td>1,755</td>\n",
       "      <td>915,265,788</td>\n",
       "      <td>1,406,631,776</td>\n",
       "    </tr>\n",
       "    <tr>\n",
       "      <th>2</th>\n",
       "      <td>3</td>\n",
       "      <td>France</td>\n",
       "      <td>39,524,311</td>\n",
       "      <td>164,233</td>\n",
       "      <td>39,264,546</td>\n",
       "      <td>95,532</td>\n",
       "      <td>271,490,188</td>\n",
       "      <td>65,584,518</td>\n",
       "    </tr>\n",
       "    <tr>\n",
       "      <th>3</th>\n",
       "      <td>4</td>\n",
       "      <td>Germany</td>\n",
       "      <td>37,779,833</td>\n",
       "      <td>165,711</td>\n",
       "      <td>37,398,100</td>\n",
       "      <td>216,022</td>\n",
       "      <td>122,332,384</td>\n",
       "      <td>83,883,596</td>\n",
       "    </tr>\n",
       "    <tr>\n",
       "      <th>4</th>\n",
       "      <td>5</td>\n",
       "      <td>Brazil</td>\n",
       "      <td>36,824,580</td>\n",
       "      <td>697,074</td>\n",
       "      <td>35,919,372</td>\n",
       "      <td>208,134</td>\n",
       "      <td>63,776,166</td>\n",
       "      <td>215,353,593</td>\n",
       "    </tr>\n",
       "    <tr>\n",
       "      <th>5</th>\n",
       "      <td>6</td>\n",
       "      <td>Japan</td>\n",
       "      <td>32,588,442</td>\n",
       "      <td>68,399</td>\n",
       "      <td>21,567,425</td>\n",
       "      <td>10,952,618</td>\n",
       "      <td>92,144,639</td>\n",
       "      <td>125,584,838</td>\n",
       "    </tr>\n",
       "    <tr>\n",
       "      <th>6</th>\n",
       "      <td>7</td>\n",
       "      <td>S. Korea</td>\n",
       "      <td>30,197,066</td>\n",
       "      <td>33,486</td>\n",
       "      <td>29,740,877</td>\n",
       "      <td>422,703</td>\n",
       "      <td>15,804,065</td>\n",
       "      <td>51,329,899</td>\n",
       "    </tr>\n",
       "    <tr>\n",
       "      <th>7</th>\n",
       "      <td>8</td>\n",
       "      <td>Italy</td>\n",
       "      <td>25,453,789</td>\n",
       "      <td>186,833</td>\n",
       "      <td>25,014,986</td>\n",
       "      <td>251,970</td>\n",
       "      <td>265,478,247</td>\n",
       "      <td>60,262,770</td>\n",
       "    </tr>\n",
       "    <tr>\n",
       "      <th>8</th>\n",
       "      <td>9</td>\n",
       "      <td>UK</td>\n",
       "      <td>24,274,361</td>\n",
       "      <td>204,171</td>\n",
       "      <td>24,020,088</td>\n",
       "      <td>50,102</td>\n",
       "      <td>522,526,476</td>\n",
       "      <td>68,497,907</td>\n",
       "    </tr>\n",
       "    <tr>\n",
       "      <th>9</th>\n",
       "      <td>10</td>\n",
       "      <td>Russia</td>\n",
       "      <td>21,958,696</td>\n",
       "      <td>395,108</td>\n",
       "      <td>21,356,008</td>\n",
       "      <td>207,580</td>\n",
       "      <td>273,400,000</td>\n",
       "      <td>145,805,947</td>\n",
       "    </tr>\n",
       "  </tbody>\n",
       "</table>\n",
       "</div>"
      ],
      "text/plain": [
       "   serial_number   country  total_cases total_deaths total_recovered   \n",
       "0              1       USA  104,196,861    1,132,935     101,322,779  \\\n",
       "1              2     India   44,682,784      530,740      44,150,289   \n",
       "2              3    France   39,524,311      164,233      39,264,546   \n",
       "3              4   Germany   37,779,833      165,711      37,398,100   \n",
       "4              5    Brazil   36,824,580      697,074      35,919,372   \n",
       "5              6     Japan   32,588,442       68,399      21,567,425   \n",
       "6              7  S. Korea   30,197,066       33,486      29,740,877   \n",
       "7              8     Italy   25,453,789      186,833      25,014,986   \n",
       "8              9        UK   24,274,361      204,171      24,020,088   \n",
       "9             10    Russia   21,958,696      395,108      21,356,008   \n",
       "\n",
       "  active_cases     total_test     population  \n",
       "0    1,741,147  1,159,832,679    334,805,269  \n",
       "1        1,755    915,265,788  1,406,631,776  \n",
       "2       95,532    271,490,188     65,584,518  \n",
       "3      216,022    122,332,384     83,883,596  \n",
       "4      208,134     63,776,166    215,353,593  \n",
       "5   10,952,618     92,144,639    125,584,838  \n",
       "6      422,703     15,804,065     51,329,899  \n",
       "7      251,970    265,478,247     60,262,770  \n",
       "8       50,102    522,526,476     68,497,907  \n",
       "9      207,580    273,400,000    145,805,947  "
      ]
     },
     "execution_count": 3,
     "metadata": {},
     "output_type": "execute_result"
    }
   ],
   "source": [
    "table_url = profile_file + \"#share1.schema1.table1\"\n",
    "delta_sharing.load_as_pandas(table_url, limit=10)"
   ]
  },
  {
   "cell_type": "code",
   "execution_count": null,
   "id": "c62af932",
   "metadata": {},
   "outputs": [],
   "source": []
  }
 ],
 "metadata": {
  "kernelspec": {
   "display_name": "Python 3 (ipykernel)",
   "language": "python",
   "name": "python3"
  },
  "language_info": {
   "codemirror_mode": {
    "name": "ipython",
    "version": 3
   },
   "file_extension": ".py",
   "mimetype": "text/x-python",
   "name": "python",
   "nbconvert_exporter": "python",
   "pygments_lexer": "ipython3",
   "version": "3.11.2"
  }
 },
 "nbformat": 4,
 "nbformat_minor": 5
}
