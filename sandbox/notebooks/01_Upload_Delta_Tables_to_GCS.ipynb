{
 "cells": [
  {
   "cell_type": "markdown",
   "id": "8c72a7a4",
   "metadata": {},
   "source": [
    "# Define Utility Functions"
   ]
  },
  {
   "cell_type": "code",
   "execution_count": 1,
   "id": "4d53d007",
   "metadata": {},
   "outputs": [],
   "source": [
    "import os\n",
    "import glob\n",
    "import itertools\n",
    "from pathlib import Path\n",
    "from google.cloud import storage\n",
    "\n",
    "CLIENT = storage.Client()\n",
    "\n",
    "def upload(local_path, bucket, gcs_path):\n",
    "    assert os.path.isdir(local_path)\n",
    "    bucket = CLIENT.get_bucket(bucket)\n",
    "    for local_file in itertools.chain(glob.glob(local_path + '/**'), glob.glob(local_path + '/.**')):\n",
    "        if not os.path.isfile(local_file):\n",
    "            upload(local_file, bucket, gcs_path + \"/\" + os.path.basename(local_file))\n",
    "        else:\n",
    "            remote_path = os.path.join(gcs_path, os.path.basename(local_file))\n",
    "            blob = bucket.blob(remote_path)\n",
    "            blob.upload_from_filename(local_file)"
   ]
  },
  {
   "cell_type": "markdown",
   "id": "e26afff2",
   "metadata": {},
   "source": [
    "# Upload Tables to GCS"
   ]
  },
  {
   "cell_type": "code",
   "execution_count": 2,
   "id": "ba9850ad",
   "metadata": {},
   "outputs": [],
   "source": [
    "upload('../data/covid-table/', 'delta-sharing-test', 'covid')\n",
    "upload('../data/examination-table/', 'delta-sharing-test', 'examination')"
   ]
  }
 ],
 "metadata": {
  "kernelspec": {
   "display_name": "Python 3 (ipykernel)",
   "language": "python",
   "name": "python3"
  },
  "language_info": {
   "codemirror_mode": {
    "name": "ipython",
    "version": 3
   },
   "file_extension": ".py",
   "mimetype": "text/x-python",
   "name": "python",
   "nbconvert_exporter": "python",
   "pygments_lexer": "ipython3",
   "version": "3.8.13"
  }
 },
 "nbformat": 4,
 "nbformat_minor": 5
}
