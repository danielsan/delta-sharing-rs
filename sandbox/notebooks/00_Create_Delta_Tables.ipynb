{
 "cells": [
  {
   "cell_type": "markdown",
   "id": "0537f5db",
   "metadata": {},
   "source": [
    "# Setup Spark Session"
   ]
  },
  {
   "cell_type": "code",
   "execution_count": null,
   "id": "f46e34ac",
   "metadata": {},
   "outputs": [],
   "source": [
    "from pyspark.sql import SparkSession\n",
    "from delta import configure_spark_with_delta_pip\n",
    "\n",
    "builder = SparkSession.builder.appName('CreateDeltaTables') \\\n",
    "    .config(\n",
    "        'spark.jars.packages',\n",
    "        'io.delta:delta-core_2.12:2.2.0') \\\n",
    "    .config(\n",
    "        'spark.sql.extensions',\n",
    "        'io.delta.sql.DeltaSparkSessionExtension') \\\n",
    "    .config(\n",
    "        'spark.sql.catalog.spark_catalog',\n",
    "        'org.apache.spark.sql.delta.catalog.DeltaCatalog') \\\n",
    "    .config(\n",
    "        'spark.delta.logStore.gs.impl',\n",
    "        'io.delta.storage.GCSLogStore')\n",
    "\n",
    "spark = configure_spark_with_delta_pip(builder).getOrCreate()"
   ]
  },
  {
   "cell_type": "markdown",
   "id": "e59ab4e9",
   "metadata": {},
   "source": [
    "# Load CSVs"
   ]
  },
  {
   "cell_type": "code",
   "execution_count": 2,
   "id": "b2d3a174",
   "metadata": {},
   "outputs": [],
   "source": [
    "covid = spark.read \\\n",
    "    .format(\"csv\") \\\n",
    "    .option(\"header\", \"true\") \\\n",
    "    .option(\"inferSchema\", \"true\") \\\n",
    "    .load(\"../data/covid.csv\")"
   ]
  },
  {
   "cell_type": "markdown",
   "id": "5ca77d2d",
   "metadata": {},
   "source": [
    "# Create Delta Tables"
   ]
  },
  {
   "cell_type": "code",
   "execution_count": null,
   "id": "309a7f2c",
   "metadata": {},
   "outputs": [],
   "source": [
    "covid.head()\n",
    "covid.write \\\n",
    "    .format(\"delta\") \\\n",
    "    .save(\"../data/covid-table\")"
   ]
  },
  {
   "cell_type": "code",
   "execution_count": null,
   "id": "7b5436e5",
   "metadata": {},
   "outputs": [],
   "source": []
  }
 ],
 "metadata": {
  "kernelspec": {
   "display_name": "Python 3 (ipykernel)",
   "language": "python",
   "name": "python3"
  },
  "language_info": {
   "codemirror_mode": {
    "name": "ipython",
    "version": 3
   },
   "file_extension": ".py",
   "mimetype": "text/x-python",
   "name": "python",
   "nbconvert_exporter": "python",
   "pygments_lexer": "ipython3",
   "version": "3.8.13"
  }
 },
 "nbformat": 4,
 "nbformat_minor": 5
}
